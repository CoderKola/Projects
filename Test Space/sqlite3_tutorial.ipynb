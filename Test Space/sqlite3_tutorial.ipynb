{
 "cells": [
  {
   "cell_type": "markdown",
   "id": "c0534ec3",
   "metadata": {},
   "source": [
    "# Sqlite3 Tutorial"
   ]
  },
  {
   "cell_type": "markdown",
   "id": "fa3a7032",
   "metadata": {},
   "source": [
    "## Import Package"
   ]
  },
  {
   "cell_type": "code",
   "execution_count": 50,
   "id": "d381fc9f",
   "metadata": {},
   "outputs": [],
   "source": [
    "import sqlite3"
   ]
  },
  {
   "cell_type": "markdown",
   "id": "3e77beeb",
   "metadata": {},
   "source": [
    "## Create Database & Start Connection"
   ]
  },
  {
   "cell_type": "code",
   "execution_count": 51,
   "id": "c2a9b32f",
   "metadata": {},
   "outputs": [],
   "source": [
    "# Connect to SQLite database (or create it if it doesn't exist)\n",
    "con = sqlite3.connect('tutorial.db')\n",
    "\n",
    "# `cur` is the cursor object that allows us to execute SQL commands\n",
    "cur = con.cursor()"
   ]
  },
  {
   "cell_type": "markdown",
   "id": "e953459c",
   "metadata": {},
   "source": [
    "## Create Table"
   ]
  },
  {
   "cell_type": "code",
   "execution_count": 52,
   "id": "c18189b6",
   "metadata": {},
   "outputs": [
    {
     "ename": "OperationalError",
     "evalue": "table movie already exists",
     "output_type": "error",
     "traceback": [
      "\u001b[31m---------------------------------------------------------------------------\u001b[39m",
      "\u001b[31mOperationalError\u001b[39m                          Traceback (most recent call last)",
      "\u001b[36mCell\u001b[39m\u001b[36m \u001b[39m\u001b[32mIn[52]\u001b[39m\u001b[32m, line 2\u001b[39m\n\u001b[32m      1\u001b[39m \u001b[38;5;66;03m# Generate a table called movie\u001b[39;00m\n\u001b[32m----> \u001b[39m\u001b[32m2\u001b[39m \u001b[43mcur\u001b[49m\u001b[43m.\u001b[49m\u001b[43mexecute\u001b[49m\u001b[43m(\u001b[49m\u001b[33;43m\"\u001b[39;49m\u001b[33;43mCREATE TABLE movie(title, year, score)\u001b[39;49m\u001b[33;43m\"\u001b[39;49m\u001b[43m)\u001b[49m\n",
      "\u001b[31mOperationalError\u001b[39m: table movie already exists"
     ]
    }
   ],
   "source": [
    "# Generate a table called movie\n",
    "cur.execute(\"CREATE TABLE movie(title, year, score)\")"
   ]
  },
  {
   "cell_type": "markdown",
   "id": "219b016b",
   "metadata": {},
   "source": [
    "## Verfiy Table Creation"
   ]
  },
  {
   "cell_type": "code",
   "execution_count": null,
   "id": "99800222",
   "metadata": {},
   "outputs": [
    {
     "data": {
      "text/plain": [
       "('movie',)"
      ]
     },
     "execution_count": 19,
     "metadata": {},
     "output_type": "execute_result"
    }
   ],
   "source": [
    "res = cur.execute(\"SELECT name FROM sqlite_master\")\n",
    "res.fetchone()"
   ]
  },
  {
   "cell_type": "code",
   "execution_count": null,
   "id": "afd84bfd",
   "metadata": {},
   "outputs": [
    {
     "name": "stdout",
     "output_type": "stream",
     "text": [
      "True\n",
      "False\n"
     ]
    }
   ],
   "source": [
    "# Check if random table 'spam' exists (should return True)\n",
    "res = cur.execute(\"SELECT name from sqlite_master WHERE name ='spam'\")\n",
    "print(res.fetchone() is None)\n",
    "\n",
    "# Check if the 'movie' table exists (should return False since output should not be None)\n",
    "res = cur.execute(\"SELECT name from sqlite_master WHERE name ='movie'\")\n",
    "print(res.fetchone() is None)"
   ]
  },
  {
   "cell_type": "markdown",
   "id": "75108c05",
   "metadata": {},
   "source": [
    "## Insert Into Table"
   ]
  },
  {
   "cell_type": "code",
   "execution_count": null,
   "id": "57748e56",
   "metadata": {},
   "outputs": [],
   "source": [
    "cur.execute(\"\"\"\n",
    "INSERT INTO movie VALUES\n",
    "    ('Monty Python and the Holy Grail', 1975, 8.2),\n",
    "    ('And Now for Something Completely Different', 1971, 7.5)\n",
    "\"\"\")\n",
    "\n",
    "# This is always required after any operation that modifies the database\n",
    "con.commit()"
   ]
  },
  {
   "cell_type": "markdown",
   "id": "e0f4c767",
   "metadata": {},
   "source": [
    "### Check Table Output"
   ]
  },
  {
   "cell_type": "code",
   "execution_count": null,
   "id": "8f89082e",
   "metadata": {},
   "outputs": [
    {
     "data": {
      "text/plain": [
       "[('Monty Python and the Holy Grail', 1975, 8.2),\n",
       " ('And Now for Something Completely Different', 1971, 7.5)]"
      ]
     },
     "execution_count": 22,
     "metadata": {},
     "output_type": "execute_result"
    }
   ],
   "source": [
    "cur.execute(\"SELECT * FROM movie\")\n",
    "cur.fetchall()"
   ]
  },
  {
   "cell_type": "markdown",
   "id": "30bfe3a0",
   "metadata": {},
   "source": [
    "# Insert More Rows via. Variable"
   ]
  },
  {
   "cell_type": "code",
   "execution_count": null,
   "id": "1d4a5cec",
   "metadata": {},
   "outputs": [],
   "source": [
    "data = [\n",
    "    (\"Monty Python Live at teh Hollywood Bowl\", 1982, 7.9),\n",
    "    (\"Monty Python's The Meaning of Life\", 1983, 7.5),\n",
    "    (\"Monty Python's Life of Brian\", 1979, 8.0)\n",
    "]\n",
    "\n",
    "# Notice that ? placeholders are used to bind data to the query. \n",
    "# Always use placeholders instead of string formatting to bind Python values to SQL statements, to avoid SQL injection attacks (see How to use placeholders to bind values in SQL queries for more details).\n",
    "\n",
    "cur.executemany(\"INSERT INTO movie VALUES(?, ?, ?)\", data)\n",
    "con.commit() # Commit the changes"
   ]
  },
  {
   "cell_type": "markdown",
   "id": "1e2919b4",
   "metadata": {},
   "source": [
    "## Verify New Rows"
   ]
  },
  {
   "cell_type": "code",
   "execution_count": null,
   "id": "326140fd",
   "metadata": {},
   "outputs": [
    {
     "name": "stdout",
     "output_type": "stream",
     "text": [
      "('And Now for Something Completely Different', 1971, 7.5)\n",
      "('Monty Python and the Holy Grail', 1975, 8.2)\n",
      "(\"Monty Python's Life of Brian\", 1979, 8.0)\n",
      "('Monty Python Live at teh Hollywood Bowl', 1982, 7.9)\n",
      "(\"Monty Python's The Meaning of Life\", 1983, 7.5)\n"
     ]
    }
   ],
   "source": [
    "rows = cur.execute(\"SELECT * FROM movie ORDER BY year\")\n",
    "for row in rows:\n",
    "    print(row)"
   ]
  },
  {
   "cell_type": "markdown",
   "id": "2708d77f",
   "metadata": {},
   "source": [
    "# Close Connection to Database"
   ]
  },
  {
   "cell_type": "code",
   "execution_count": null,
   "id": "e6f8cc1a",
   "metadata": {},
   "outputs": [],
   "source": [
    "con.close()"
   ]
  },
  {
   "cell_type": "markdown",
   "id": "89fc7fac",
   "metadata": {},
   "source": [
    "# Open New Connection and Query the Database"
   ]
  },
  {
   "cell_type": "code",
   "execution_count": null,
   "id": "97fb1e8c",
   "metadata": {},
   "outputs": [
    {
     "name": "stdout",
     "output_type": "stream",
     "text": [
      "Fetching one row using fetchone()\n"
     ]
    },
    {
     "data": {
      "text/plain": [
       "(\"Monty Python's The Meaning of Life\", 1983)"
      ]
     },
     "execution_count": 43,
     "metadata": {},
     "output_type": "execute_result"
    }
   ],
   "source": [
    "new_con = sqlite3.connect('tutorial.db')\n",
    "new_cur = new_con.cursor()\n",
    "\n",
    "res = new_cur.execute(\"SELECT title, year from movie ORDER BY year DESC\")\n",
    "\n",
    "#Fetch one row\n",
    "print(\"Fetching one row using fetchone()\")\n",
    "res.fetchone()\n",
    "\n",
    "#Fetch all rows\n",
    "# print(\"\\nFetching all rows using fetchall()\")\n",
    "# print(res.fetchall())"
   ]
  },
  {
   "cell_type": "markdown",
   "id": "7ba9ba56",
   "metadata": {},
   "source": [
    "## Unpack Results from Query and Print"
   ]
  },
  {
   "cell_type": "code",
   "execution_count": null,
   "id": "f8abba9c",
   "metadata": {},
   "outputs": [
    {
     "name": "stdout",
     "output_type": "stream",
     "text": [
      "Monty Python Live at teh Hollywood Bowl was released in 1982\n"
     ]
    }
   ],
   "source": [
    "# res = new_cur.execute(\"SELECT title, year from movie ORDER BY year DESC\")\n",
    "\n",
    "title, year = res.fetchone()\n",
    "print(f\"{title} was released in {year}\")\n"
   ]
  },
  {
   "cell_type": "code",
   "execution_count": null,
   "id": "c1917aa3",
   "metadata": {},
   "outputs": [
    {
     "name": "stdout",
     "output_type": "stream",
     "text": [
      "Monty Python's The Meaning of Life was released in 1983\n",
      "Monty Python Live at teh Hollywood Bowl was released in 1982\n",
      "Monty Python's Life of Brian was released in 1979\n",
      "Monty Python and the Holy Grail was released in 1975\n",
      "And Now for Something Completely Different was released in 1971\n"
     ]
    }
   ],
   "source": [
    "# Unpack Results from Query and Print\n",
    "res = new_cur.execute(\"SELECT title, year from movie ORDER BY year DESC\")\n",
    "for title, year in res.fetchall():\n",
    "    print(f\"{title} was released in {year}\")"
   ]
  }
 ],
 "metadata": {
  "kernelspec": {
   "display_name": "Projects (3.13.5)",
   "language": "python",
   "name": "python3"
  },
  "language_info": {
   "codemirror_mode": {
    "name": "ipython",
    "version": 3
   },
   "file_extension": ".py",
   "mimetype": "text/x-python",
   "name": "python",
   "nbconvert_exporter": "python",
   "pygments_lexer": "ipython3",
   "version": "3.13.5"
  }
 },
 "nbformat": 4,
 "nbformat_minor": 5
}
